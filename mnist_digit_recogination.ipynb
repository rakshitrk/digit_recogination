{
  "nbformat": 4,
  "nbformat_minor": 0,
  "metadata": {
    "colab": {
      "name": "mnist_digit_recogination.ipynb",
      "version": "0.3.2",
      "provenance": [],
      "include_colab_link": true
    },
    "kernelspec": {
      "name": "python3",
      "display_name": "Python 3"
    },
    "accelerator": "GPU"
  },
  "cells": [
    {
      "cell_type": "markdown",
      "metadata": {
        "id": "view-in-github",
        "colab_type": "text"
      },
      "source": [
        "<a href=\"https://colab.research.google.com/github/rakshitrk/handwriten_digit_recogination/blob/master/mnist_digit_recogination.ipynb\" target=\"_parent\"><img src=\"https://colab.research.google.com/assets/colab-badge.svg\" alt=\"Open In Colab\"/></a>"
      ]
    },
    {
      "metadata": {
        "id": "Zy2gHDjNXOVf",
        "colab_type": "code",
        "colab": {}
      },
      "cell_type": "code",
      "source": [
        "import torch\n",
        "import torchvision\n",
        "from torchvision import transforms\n",
        "import pandas\n",
        "import torch.nn as nn\n",
        "import torch.nn.functional as F\n",
        "import torch.optim as optim\n"
      ],
      "execution_count": 0,
      "outputs": []
    },
    {
      "metadata": {
        "id": "pL2DovQvY4dY",
        "colab_type": "code",
        "colab": {
          "base_uri": "https://localhost:8080/",
          "height": 126
        },
        "outputId": "880e3378-3af7-4813-829a-51b8300acb83"
      },
      "cell_type": "code",
      "source": [
        "train_data=torchvision.datasets.MNIST(root='./data',train=True,transform=transforms.ToTensor(),download=True)\n",
        "test_data=torchvision.datasets.MNIST(root='./data',train=False,transform=transforms.ToTensor(),download=True)\n",
        "\n",
        "train_loader=torch.utils.data.DataLoader(dataset=train_data,batch_size=100,shuffle=True)\n",
        "test_loader=torch.utils.data.DataLoader(dataset=test_data,batch_size=100,shuffle=False)\n"
      ],
      "execution_count": 4,
      "outputs": [
        {
          "output_type": "stream",
          "text": [
            "Downloading http://yann.lecun.com/exdb/mnist/train-images-idx3-ubyte.gz\n",
            "Downloading http://yann.lecun.com/exdb/mnist/train-labels-idx1-ubyte.gz\n",
            "Downloading http://yann.lecun.com/exdb/mnist/t10k-images-idx3-ubyte.gz\n",
            "Downloading http://yann.lecun.com/exdb/mnist/t10k-labels-idx1-ubyte.gz\n",
            "Processing...\n",
            "Done!\n"
          ],
          "name": "stdout"
        }
      ]
    },
    {
      "metadata": {
        "id": "VPNkQe2BG66C",
        "colab_type": "text"
      },
      "cell_type": "markdown",
      "source": [
        "**VISUALIZING DATA**"
      ]
    },
    {
      "metadata": {
        "id": "UCr4jp4MlQty",
        "colab_type": "code",
        "colab": {
          "base_uri": "https://localhost:8080/",
          "height": 338
        },
        "outputId": "b5fa0391-f450-41e0-8741-b9f87ccf775a"
      },
      "cell_type": "code",
      "source": [
        "\n",
        "import numpy as np\n",
        "import matplotlib.pyplot as plt\n",
        "\n",
        "    \n",
        "# obtain one batch of training images\n",
        "dataiter = iter(train_loader)\n",
        "images, labels = dataiter.next()\n",
        "images = images.numpy()\n",
        "\n",
        "# plot the images in the batch, along with the corresponding labels\n",
        "fig = plt.figure(figsize=(20, 5))\n",
        "for idx in np.arange(10):\n",
        "    ax = fig.add_subplot(2,10/2, idx+1, xticks=[], yticks=[])\n",
        "    ax.imshow(np.squeeze(images[idx]), cmap='gray')\n",
        "    # print out the correct label for each image\n",
        "    # .item() gets the value contained in a Tensor\n",
        "    ax.set_title(str(labels[idx].item()))"
      ],
      "execution_count": 5,
      "outputs": [
        {
          "output_type": "display_data",
          "data": {
            "image/png": "[encoded data removed]",
            "text/plain": [
              "<Figure size 1440x360 with 10 Axes>"
            ]
          },
          "metadata": {
            "tags": []
          }
        }
      ]
    },
    {
      "metadata": {
        "id": "nMyBvy9VY4gs",
        "colab_type": "code",
        "colab": {
          "base_uri": "https://localhost:8080/",
          "height": 126
        },
        "outputId": "9d03815b-ad12-4f5a-b497-54753766e2cb"
      },
      "cell_type": "code",
      "source": [
        "class Net(nn.Module):\n",
        "  def __init__(self):\n",
        "    super (Net,self).__init__()\n",
        "    h1=512\n",
        "    h2=512\n",
        "    self.l1=nn.Linear(28*28,h1)\n",
        "    self.l2=nn.Linear(h1,h2)\n",
        "    self.l3=nn.Linear(h2,10)\n",
        "    self.dropout=nn.Dropout(0.2)\n",
        "    \n",
        "  def forward(self,x):\n",
        "    x=x.view(-1,28*28)\n",
        "    #activation function and dropout layer after layer 1&2\n",
        "    x=F.relu(self.l1(x))\n",
        "    x=self.dropout(x)\n",
        "    x=F.relu(self.l2(x))\n",
        "    x=self.dropout(x)\n",
        "    #output layer\n",
        "    x=self.l3(x)\n",
        "    return x\n",
        "  \n",
        "net=Net()\n",
        "print(net)\n",
        "  "
      ],
      "execution_count": 6,
      "outputs": [
        {
          "output_type": "stream",
          "text": [
            "Net(\n",
            "  (l1): Linear(in_features=784, out_features=512, bias=True)\n",
            "  (l2): Linear(in_features=512, out_features=512, bias=True)\n",
            "  (l3): Linear(in_features=512, out_features=10, bias=True)\n",
            "  (dropout): Dropout(p=0.2)\n",
            ")\n"
          ],
          "name": "stdout"
        }
      ]
    },
    {
      "metadata": {
        "id": "O5I7SvARHJ9k",
        "colab_type": "text"
      },
      "cell_type": "markdown",
      "source": [
        "LOSS AND OPTIMIZER"
      ]
    },
    {
      "metadata": {
        "id": "Ol34ZE8MBBI-",
        "colab_type": "code",
        "colab": {}
      },
      "cell_type": "code",
      "source": [
        "#cross entropy loss\n",
        "los=nn.CrossEntropyLoss()\n",
        "#stochastic gradient descent and learning rate 0.001\n",
        "optimizer=optim.SGD(net.parameters(),lr=0.001)\n"
      ],
      "execution_count": 0,
      "outputs": []
    },
    {
      "metadata": {
        "id": "P6_KaCUqGhPk",
        "colab_type": "text"
      },
      "cell_type": "markdown",
      "source": [
        " **TRAIN MODEL**"
      ]
    },
    {
      "metadata": {
        "id": "AjHak6bJGO_M",
        "colab_type": "code",
        "colab": {
          "base_uri": "https://localhost:8080/",
          "height": 925
        },
        "outputId": "71b1d8b0-2ae2-4a2b-df64-ad42b296a0e9"
      },
      "cell_type": "code",
      "source": [
        "n=50\n",
        "for epoch in range(n):\n",
        "  running_loss=0.0\n",
        "  \n",
        "  for data ,target in train_loader:\n",
        "      #zero th gradients\n",
        "      optimizer.zero_grad()\n",
        "      \n",
        "      #forward \n",
        "      out=net(data)\n",
        "      #losss after forward pass\n",
        "      loss=los(out,target)\n",
        "      #backwardpass \n",
        "      loss.backward()\n",
        "      # perform a single optimization step (parameter update)\n",
        "      optimizer.step()\n",
        "      #updating loss\n",
        "      running_loss +=loss.item()*data.size(0)\n",
        "      \n",
        "  running_loss=running_loss/len(train_loader.dataset)\n",
        "      \n",
        "  print('Epoch: {} \\tTraining Loss: {:.6f}'.format(\n",
        "     epoch+1, \n",
        "     running_loss\n",
        "     ))\n",
        "  "
      ],
      "execution_count": 8,
      "outputs": [
        {
          "output_type": "stream",
          "text": [
            "Epoch: 1 \tTraining Loss: 2.291123\n",
            "Epoch: 2 \tTraining Loss: 2.262043\n",
            "Epoch: 3 \tTraining Loss: 2.226852\n",
            "Epoch: 4 \tTraining Loss: 2.179907\n",
            "Epoch: 5 \tTraining Loss: 2.113323\n",
            "Epoch: 6 \tTraining Loss: 2.018633\n",
            "Epoch: 7 \tTraining Loss: 1.887076\n",
            "Epoch: 8 \tTraining Loss: 1.717371\n",
            "Epoch: 9 \tTraining Loss: 1.525354\n",
            "Epoch: 10 \tTraining Loss: 1.335189\n",
            "Epoch: 11 \tTraining Loss: 1.174057\n",
            "Epoch: 12 \tTraining Loss: 1.042031\n",
            "Epoch: 13 \tTraining Loss: 0.939934\n",
            "Epoch: 14 \tTraining Loss: 0.859213\n",
            "Epoch: 15 \tTraining Loss: 0.796650\n",
            "Epoch: 16 \tTraining Loss: 0.744480\n",
            "Epoch: 17 \tTraining Loss: 0.701592\n",
            "Epoch: 18 \tTraining Loss: 0.667567\n",
            "Epoch: 19 \tTraining Loss: 0.638118\n",
            "Epoch: 20 \tTraining Loss: 0.611907\n",
            "Epoch: 21 \tTraining Loss: 0.590261\n",
            "Epoch: 22 \tTraining Loss: 0.570330\n",
            "Epoch: 23 \tTraining Loss: 0.554008\n",
            "Epoch: 24 \tTraining Loss: 0.537288\n",
            "Epoch: 25 \tTraining Loss: 0.524415\n",
            "Epoch: 26 \tTraining Loss: 0.509722\n",
            "Epoch: 27 \tTraining Loss: 0.498992\n",
            "Epoch: 28 \tTraining Loss: 0.488401\n",
            "Epoch: 29 \tTraining Loss: 0.479371\n",
            "Epoch: 30 \tTraining Loss: 0.470915\n",
            "Epoch: 31 \tTraining Loss: 0.462342\n",
            "Epoch: 32 \tTraining Loss: 0.454408\n",
            "Epoch: 33 \tTraining Loss: 0.447007\n",
            "Epoch: 34 \tTraining Loss: 0.441026\n",
            "Epoch: 35 \tTraining Loss: 0.435993\n",
            "Epoch: 36 \tTraining Loss: 0.429538\n",
            "Epoch: 37 \tTraining Loss: 0.422646\n",
            "Epoch: 38 \tTraining Loss: 0.417423\n",
            "Epoch: 39 \tTraining Loss: 0.412664\n",
            "Epoch: 40 \tTraining Loss: 0.408588\n",
            "Epoch: 41 \tTraining Loss: 0.404141\n",
            "Epoch: 42 \tTraining Loss: 0.400204\n",
            "Epoch: 43 \tTraining Loss: 0.396467\n",
            "Epoch: 44 \tTraining Loss: 0.392355\n",
            "Epoch: 45 \tTraining Loss: 0.388652\n",
            "Epoch: 46 \tTraining Loss: 0.385690\n",
            "Epoch: 47 \tTraining Loss: 0.381219\n",
            "Epoch: 48 \tTraining Loss: 0.378292\n",
            "Epoch: 49 \tTraining Loss: 0.375692\n",
            "Epoch: 50 \tTraining Loss: 0.373591\n"
          ],
          "name": "stdout"
        }
      ]
    }
  ]
}