{
  "nbformat": 4,
  "nbformat_minor": 0,
  "metadata": {
    "colab": {
      "name": "mnist_digit_recogination.ipynb",
      "version": "0.3.2",
      "provenance": [],
      "include_colab_link": true
    },
    "kernelspec": {
      "name": "python3",
      "display_name": "Python 3"
    },
    "accelerator": "GPU"
  },
  "cells": [
    {
      "cell_type": "markdown",
      "metadata": {
        "id": "view-in-github",
        "colab_type": "text"
      },
      "source": [
        "<a href=\"https://colab.research.google.com/github/rakshitrk/handwriten_digit_recogination/blob/master/mnist_digit_recogination.ipynb\" target=\"_parent\"><img src=\"https://colab.research.google.com/assets/colab-badge.svg\" alt=\"Open In Colab\"/></a>"
      ]
    },
    {
      "metadata": {
        "id": "Zy2gHDjNXOVf",
        "colab_type": "code",
        "colab": {}
      },
      "cell_type": "code",
      "source": [
        "import torch\n",
        "import torchvision\n",
        "from torchvision import transforms\n",
        "import pandas\n",
        "import torch.nn as nn\n",
        "import torch.nn.functional as F\n",
        "import torch.optim as optim\n"
      ],
      "execution_count": 0,
      "outputs": []
    },
    {
      "metadata": {
        "id": "pL2DovQvY4dY",
        "colab_type": "code",
        "outputId": "78978e0c-ef3f-472e-e6f5-6d59c77389f8",
        "colab": {
          "base_uri": "https://localhost:8080/",
          "height": 129
        }
      },
      "cell_type": "code",
      "source": [
        "train_data=torchvision.datasets.MNIST(root='./data',train=True,transform=transforms.ToTensor(),download=True)\n",
        "test_data=torchvision.datasets.MNIST(root='./data',train=False,transform=transforms.ToTensor(),download=True)\n",
        "\n",
        "train_loader=torch.utils.data.DataLoader(dataset=train_data,batch_size=100,shuffle=True)\n",
        "test_loader=torch.utils.data.DataLoader(dataset=test_data,batch_size=100,shuffle=False)\n"
      ],
      "execution_count": 2,
      "outputs": [
        {
          "output_type": "stream",
          "text": [
            "Downloading http://yann.lecun.com/exdb/mnist/train-images-idx3-ubyte.gz\n",
            "Downloading http://yann.lecun.com/exdb/mnist/train-labels-idx1-ubyte.gz\n",
            "Downloading http://yann.lecun.com/exdb/mnist/t10k-images-idx3-ubyte.gz\n",
            "Downloading http://yann.lecun.com/exdb/mnist/t10k-labels-idx1-ubyte.gz\n",
            "Processing...\n",
            "Done!\n"
          ],
          "name": "stdout"
        }
      ]
    },
    {
      "metadata": {
        "id": "VPNkQe2BG66C",
        "colab_type": "text"
      },
      "cell_type": "markdown",
      "source": [
        "**VISUALIZING DATA**"
      ]
    },
    {
      "metadata": {
        "id": "UCr4jp4MlQty",
        "colab_type": "code",
        "outputId": "e8c1aba1-ffcc-4673-8aaf-99b1820ad129",
        "colab": {
          "base_uri": "https://localhost:8080/",
          "height": 338
        }
      },
      "cell_type": "code",
      "source": [
        "\n",
        "import numpy as np\n",
        "import matplotlib.pyplot as plt\n",
        "\n",
        "    \n",
        "# obtain one batch of training images\n",
        "dataiter = iter(train_loader)\n",
        "images, labels = dataiter.next()\n",
        "images = images.numpy()\n",
        "\n",
        "# plot the images in the batch, along with the corresponding labels\n",
        "fig = plt.figure(figsize=(20, 5))\n",
        "for idx in np.arange(10):\n",
        "    ax = fig.add_subplot(2,10/2, idx+1, xticks=[], yticks=[])\n",
        "    ax.imshow(np.squeeze(images[idx]), cmap='gray')\n",
        "    # print out the correct label for each image\n",
        "    # .item() gets the value contained in a Tensor\n",
        "    ax.set_title(str(labels[idx].item()))"
      ],
      "execution_count": 3,
      "outputs": [
        {
          "output_type": "display_data",
          "data": {
            "image/png": "[encoded data removed]",
            "text/plain": [
              "<Figure size 1440x360 with 10 Axes>"
            ]
          },
          "metadata": {
            "tags": []
          }
        }
      ]
    },
    {
      "metadata": {
        "id": "nMyBvy9VY4gs",
        "colab_type": "code",
        "outputId": "3b6e79d3-2b1f-4707-98eb-e06ad7cd1323",
        "colab": {
          "base_uri": "https://localhost:8080/",
          "height": 129
        }
      },
      "cell_type": "code",
      "source": [
        "class Net(nn.Module):\n",
        "  def __init__(self):\n",
        "    super (Net,self).__init__()\n",
        "    h1=512\n",
        "    h2=512\n",
        "    self.l1=nn.Linear(28*28,h1)\n",
        "    self.l2=nn.Linear(h1,h2)\n",
        "    self.l3=nn.Linear(h2,10)\n",
        "    self.dropout=nn.Dropout(0.2)\n",
        "    \n",
        "  def forward(self,x):\n",
        "    x=x.view(-1,28*28)\n",
        "    #activation function and dropout layer after layer 1&2\n",
        "    x=F.relu(self.l1(x))\n",
        "    x=self.dropout(x)\n",
        "    x=F.relu(self.l2(x))\n",
        "    x=self.dropout(x)\n",
        "    #output layer\n",
        "    x=self.l3(x)\n",
        "    return x\n",
        "  \n",
        "net=Net()\n",
        "print(net)\n",
        "  "
      ],
      "execution_count": 4,
      "outputs": [
        {
          "output_type": "stream",
          "text": [
            "Net(\n",
            "  (l1): Linear(in_features=784, out_features=512, bias=True)\n",
            "  (l2): Linear(in_features=512, out_features=512, bias=True)\n",
            "  (l3): Linear(in_features=512, out_features=10, bias=True)\n",
            "  (dropout): Dropout(p=0.2)\n",
            ")\n"
          ],
          "name": "stdout"
        }
      ]
    },
    {
      "metadata": {
        "id": "O5I7SvARHJ9k",
        "colab_type": "text"
      },
      "cell_type": "markdown",
      "source": [
        "LOSS AND OPTIMIZER"
      ]
    },
    {
      "metadata": {
        "id": "Ol34ZE8MBBI-",
        "colab_type": "code",
        "colab": {}
      },
      "cell_type": "code",
      "source": [
        "#cross entropy loss\n",
        "criterion=nn.CrossEntropyLoss()\n",
        "#stochastic gradient descent and learning rate 0.001\n",
        "optimizer=optim.SGD(net.parameters(),lr=0.001)\n"
      ],
      "execution_count": 0,
      "outputs": []
    },
    {
      "metadata": {
        "id": "P6_KaCUqGhPk",
        "colab_type": "text"
      },
      "cell_type": "markdown",
      "source": [
        " **TRAIN MODEL**"
      ]
    },
    {
      "metadata": {
        "id": "AjHak6bJGO_M",
        "colab_type": "code",
        "outputId": "e15bed2a-ea5b-45ca-c171-ae8880d48581",
        "colab": {
          "base_uri": "https://localhost:8080/",
          "height": 204
        }
      },
      "cell_type": "code",
      "source": [
        "n=10\n",
        "for epoch in range(n):\n",
        "  running_loss=0.0\n",
        "  \n",
        "  for data ,target in train_loader:\n",
        "      #zero th gradients\n",
        "      optimizer.zero_grad()\n",
        "      \n",
        "      #forward \n",
        "      out=net(data)\n",
        "      #losss after forward pass\n",
        "      loss=criterion(out,target)\n",
        "      #backwardpass \n",
        "      loss.backward()\n",
        "      # perform a single optimization step (parameter update)\n",
        "      optimizer.step()\n",
        "      #updating loss\n",
        "      running_loss +=loss.item()*data.size(0)\n",
        "      \n",
        "  running_loss=running_loss/len(train_loader.dataset)\n",
        "      \n",
        "  print('Epoch: {} \\tTraining Loss: {:.6f}'.format(\n",
        "     epoch+1, \n",
        "     running_loss\n",
        "     ))\n",
        "  "
      ],
      "execution_count": 58,
      "outputs": [
        {
          "output_type": "stream",
          "text": [
            "Epoch: 1 \tTraining Loss: 0.415935\n",
            "Epoch: 2 \tTraining Loss: 0.412237\n",
            "Epoch: 3 \tTraining Loss: 0.408292\n",
            "Epoch: 4 \tTraining Loss: 0.404666\n",
            "Epoch: 5 \tTraining Loss: 0.398847\n",
            "Epoch: 6 \tTraining Loss: 0.395796\n",
            "Epoch: 7 \tTraining Loss: 0.392192\n",
            "Epoch: 8 \tTraining Loss: 0.386483\n",
            "Epoch: 9 \tTraining Loss: 0.383334\n",
            "Epoch: 10 \tTraining Loss: 0.380180\n"
          ],
          "name": "stdout"
        }
      ]
    },
    {
      "metadata": {
        "colab_type": "code",
        "id": "MBmutt38nZH2",
        "colab": {}
      },
      "cell_type": "code",
      "source": [
        "#passing test data in net\n",
        "for data, target in test_loader:\n",
        "  out=net(data)\n",
        "  \n",
        "  _, pred=torch.max(out,1)\n",
        "  \n",
        "  \n",
        "    \n"
      ],
      "execution_count": 0,
      "outputs": []
    },
    {
      "metadata": {
        "id": "KRKyFlmkrUso",
        "colab_type": "code",
        "colab": {
          "base_uri": "https://localhost:8080/",
          "height": 283
        },
        "outputId": "7e060d65-33ee-4381-ed34-d2c973861394"
      },
      "cell_type": "code",
      "source": [
        "#showing images from test data \n",
        "dataiter = iter(test_loader)\n",
        "images, labels = dataiter.next()\n",
        "\n",
        "# get sample outputs\n",
        "output = net(images)\n",
        "# convert output probabilities to predicted class\n",
        "_, preds = torch.max(output, 1)\n",
        "# prep images for display\n",
        "images = images.numpy()\n",
        "\n",
        "# batch of images with predicted and actuall label\n",
        "fig = plt.figure(figsize=(25, 4))\n",
        "for idx in np.arange(20):\n",
        "    ax = fig.add_subplot(2, 20/2, idx+1, xticks=[], yticks=[])\n",
        "    ax.imshow(np.squeeze(images[idx]), cmap='gray')\n",
        "    ax.set_title(\"{} ({})\".format(str(preds[idx].item()), str(labels[idx].item())),\n",
        "                 color=(\"green\" if preds[idx]==labels[idx] else \"red\"))"
      ],
      "execution_count": 56,
      "outputs": [
        {
          "output_type": "display_data",
          "data": {
            "image/png": "[encoded data removed]",
            "text/plain": [
              "<Figure size 1800x288 with 20 Axes>"
            ]
          },
          "metadata": {
            "tags": []
          }
        }
      ]
    },
    {
      "metadata": {
        "id": "6naQX5i9k_CW",
        "colab_type": "code",
        "colab": {
          "base_uri": "https://localhost:8080/",
          "height": 36
        },
        "outputId": "8711ba6c-4a04-4615-def0-1e7cd01ca6b6"
      },
      "cell_type": "code",
      "source": [
        "#accuracy of model\n",
        "correct=0\n",
        "total=0\n",
        "\n",
        "for data in test_loader:\n",
        "  images,labels=data\n",
        "  output=net(images)\n",
        "  _, pred=torch.max(output.data,1)\n",
        "  total +=labels.size(0)\n",
        "  correct +=(pred==labels).sum().item()\n",
        "  acc=100*correct/total\n",
        "print('ACCURACY OF NETWORK :',acc)"
      ],
      "execution_count": 63,
      "outputs": [
        {
          "output_type": "stream",
          "text": [
            "ACCURACY OF NETWORK : 89.8\n"
          ],
          "name": "stdout"
        }
      ]
    }
  ]
}