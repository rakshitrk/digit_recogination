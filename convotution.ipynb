{
  "nbformat": 4,
  "nbformat_minor": 0,
  "metadata": {
    "colab": {
      "name": "convotution.ipynb",
      "version": "0.3.2",
      "provenance": [],
      "include_colab_link": true
    },
    "kernelspec": {
      "name": "python3",
      "display_name": "Python 3"
    },
    "accelerator": "GPU"
  },
  "cells": [
    {
      "cell_type": "markdown",
      "metadata": {
        "id": "view-in-github",
        "colab_type": "text"
      },
      "source": [
        "<a href=\"https://colab.research.google.com/github/rakshitrk/handwriten_digit_recogination/blob/master/convotution.ipynb\" target=\"_parent\"><img src=\"https://colab.research.google.com/assets/colab-badge.svg\" alt=\"Open In Colab\"/></a>"
      ]
    },
    {
      "metadata": {
        "id": "VElCQbGn_UkV",
        "colab_type": "code",
        "colab": {}
      },
      "cell_type": "code",
      "source": [
        "import torch \n",
        "import torchvision as tv\n",
        "from torchvision import transforms\n",
        "import torch.nn as nn\n",
        "import torch.nn.functional as F\n",
        "import torch.optim as optim\n",
        "from torch.utils.data.sampler import SubsetRandomSampler\n",
        "import numpy as np"
      ],
      "execution_count": 0,
      "outputs": []
    },
    {
      "metadata": {
        "id": "0J3haVIlyfhX",
        "colab_type": "code",
        "colab": {
          "base_uri": "https://localhost:8080/",
          "height": 36
        },
        "outputId": "45c180df-2db9-4319-89b5-5cdc07a3f78b"
      },
      "cell_type": "code",
      "source": [
        "train_cuda = torch.cuda.is_available()\n",
        "\n",
        "if not train_cuda:\n",
        "  print('CUDA not available. Training on CPU.')\n",
        "else:\n",
        "  print('CUDA is available. Training on GPU.')"
      ],
      "execution_count": 2,
      "outputs": [
        {
          "output_type": "stream",
          "text": [
            "CUDA is available. Training on GPU.\n"
          ],
          "name": "stdout"
        }
      ]
    },
    {
      "metadata": {
        "id": "MwPGot_CBh2v",
        "colab_type": "code",
        "outputId": "f16850f9-201a-48c8-e0b3-df6066f5e1af",
        "colab": {
          "base_uri": "https://localhost:8080/",
          "height": 129
        }
      },
      "cell_type": "code",
      "source": [
        "train_data = tv.datasets.MNIST(root='./data',train=True,transform=transforms.ToTensor(),download=True)\n",
        "test_data = tv.datasets.MNIST(root='./data',train=False,transform=transforms.ToTensor(),download=True)"
      ],
      "execution_count": 3,
      "outputs": [
        {
          "output_type": "stream",
          "text": [
            "Downloading http://yann.lecun.com/exdb/mnist/train-images-idx3-ubyte.gz\n",
            "Downloading http://yann.lecun.com/exdb/mnist/train-labels-idx1-ubyte.gz\n",
            "Downloading http://yann.lecun.com/exdb/mnist/t10k-images-idx3-ubyte.gz\n",
            "Downloading http://yann.lecun.com/exdb/mnist/t10k-labels-idx1-ubyte.gz\n",
            "Processing...\n",
            "Done!\n"
          ],
          "name": "stdout"
        }
      ]
    },
    {
      "metadata": {
        "id": "0dK9EuKdB301",
        "colab_type": "code",
        "colab": {}
      },
      "cell_type": "code",
      "source": [
        "#spliting test data to validetion data\n",
        "\n",
        "size = len(train_data)\n",
        "indices = list(range(size))\n",
        "split = int(np.floor(0.2 * size))\n",
        "np.random.shuffle(indices)\n",
        "\n",
        "train_indices, val_indices = indices[split:], indices[:split]\n",
        "\n",
        "train = SubsetRandomSampler(train_indices)\n",
        "val = SubsetRandomSampler(val_indices)\n",
        "\n",
        "train_loader = torch.utils.data.DataLoader(train_data, batch_size = 20, sampler = train)\n",
        "val_loader = torch.utils.data.DataLoader(train_data, batch_size = 20, sampler = val)\n",
        "test_loader = torch.utils.data.DataLoader(test_data, batch_size = 20)"
      ],
      "execution_count": 0,
      "outputs": []
    },
    {
      "metadata": {
        "id": "RfLMniVTFGUl",
        "colab_type": "code",
        "colab": {
          "base_uri": "https://localhost:8080/",
          "height": 186
        },
        "outputId": "39bcdb76-80c0-485a-af70-e98ab73ffdc8"
      },
      "cell_type": "code",
      "source": [
        "class Model(nn.Module):\n",
        "  def __init__(self):\n",
        "    super(Model,self).__init__()\n",
        "    self.conv1 = nn.Conv2d(1,16,3)\n",
        "    self.conv2 = nn.Conv2d(16,32,3)\n",
        "    self.pool = nn.MaxPool2d(2,2)\n",
        "    self.fc1 = nn.Linear(32*4*4,500)\n",
        "    self.fc2 = nn.Linear(500,10)\n",
        "    self.drop = nn.Dropout(0.2)\n",
        "    \n",
        "  def forward(self,x):\n",
        "    x = self.pool(F.relu(self.conv1(x)))\n",
        "    x = self.pool(F.relu(self.conv2(x)))\n",
        "    x = x.view(-1,32*4*4)\n",
        "    x = self.drop(x)\n",
        "    x = F.relu(self.fc1(x))\n",
        "    x = self.drop(x)\n",
        "    x = F.relu(self.fc2(x))\n",
        "    return x\n",
        "  \n",
        "m = Model()\n",
        "print(m)\n",
        "\n",
        "if train_cuda:\n",
        "  m.cuda()\n",
        "  \n",
        "    "
      ],
      "execution_count": 12,
      "outputs": [
        {
          "output_type": "stream",
          "text": [
            "Model(\n",
            "  (conv1): Conv2d(1, 16, kernel_size=(3, 3), stride=(1, 1))\n",
            "  (conv2): Conv2d(16, 32, kernel_size=(3, 3), stride=(1, 1))\n",
            "  (pool): MaxPool2d(kernel_size=2, stride=2, padding=0, dilation=1, ceil_mode=False)\n",
            "  (fc1): Linear(in_features=512, out_features=500, bias=True)\n",
            "  (fc2): Linear(in_features=500, out_features=10, bias=True)\n",
            "  (drop): Dropout(p=0.2)\n",
            ")\n"
          ],
          "name": "stdout"
        }
      ]
    },
    {
      "metadata": {
        "id": "ar6vjzmc1xt0",
        "colab_type": "code",
        "colab": {}
      },
      "cell_type": "code",
      "source": [
        "critersion = nn.CrossEntropyLoss()\n",
        "optimizer = optim.SGD(m.parameters(), lr = 0.01)\n"
      ],
      "execution_count": 0,
      "outputs": []
    },
    {
      "metadata": {
        "id": "rG-hegJK2TrZ",
        "colab_type": "code",
        "colab": {}
      },
      "cell_type": "code",
      "source": [
        ""
      ],
      "execution_count": 0,
      "outputs": []
    }
  ]
}