{
  "nbformat": 4,
  "nbformat_minor": 0,
  "metadata": {
    "colab": {
      "name": "Untitled2.ipynb",
      "version": "0.3.2",
      "provenance": [],
      "collapsed_sections": [],
      "include_colab_link": true
    },
    "kernelspec": {
      "name": "python3",
      "display_name": "Python 3"
    },
    "accelerator": "GPU"
  },
  "cells": [
    {
      "cell_type": "markdown",
      "metadata": {
        "id": "view-in-github",
        "colab_type": "text"
      },
      "source": [
        "<a href=\"https://colab.research.google.com/github/rakshitrk/handwriten_digit_recogination/blob/master/validation.ipynb\" target=\"_parent\"><img src=\"https://colab.research.google.com/assets/colab-badge.svg\" alt=\"Open In Colab\"/></a>"
      ]
    },
    {
      "metadata": {
        "id": "BE7CBuqQqOxZ",
        "colab_type": "code",
        "colab": {}
      },
      "cell_type": "code",
      "source": [
        "import torch\n",
        "import torchvision as tv\n",
        "from torchvision import transforms\n",
        "import torch.nn as nn\n",
        "import torch.nn.functional as F\n",
        "import torch.optim as optim\n",
        "import numpy as np\n",
        "import matplotlib.pyplot as plt\n",
        "from torch.utils.data.sampler import SubsetRandomSampler"
      ],
      "execution_count": 0,
      "outputs": []
    },
    {
      "metadata": {
        "id": "fI2sFaaVrtLS",
        "colab_type": "code",
        "colab": {}
      },
      "cell_type": "code",
      "source": [
        "b = 100 \n",
        "n_e = 50\n",
        "val_split = .2"
      ],
      "execution_count": 0,
      "outputs": []
    },
    {
      "metadata": {
        "id": "ukWFwv0-rIKN",
        "colab_type": "code",
        "colab": {}
      },
      "cell_type": "code",
      "source": [
        "train_data = tv.datasets.MNIST(root='./data',train=True,transform=transforms.ToTensor(),download=True)\n",
        "test_data = tv.datasets.MNIST(root='./data',train=False,transform=transforms.ToTensor(),download=True)\n",
        "\n"
      ],
      "execution_count": 0,
      "outputs": []
    },
    {
      "metadata": {
        "id": "BiaZWrlkstnz",
        "colab_type": "code",
        "colab": {}
      },
      "cell_type": "code",
      "source": [
        "#spliting test data to test and validation data\n",
        "size = len(train_data)\n",
        "indices = list(range(size))\n",
        "split = int(np.floor(val_split * size))\n",
        "np.random.shuffle(indices)\n",
        "train_indices,val_indices = indices[split:],indices[:split]\n",
        "\n",
        "train = SubsetRandomSampler(train_indices)\n",
        "val = SubsetRandomSampler(val_indices)\n",
        "\n",
        "test_loader = torch.utils.data.DataLoader(train_data,batch_size=b,sampler=train)\n",
        "val_loader = torch.utils.data.DataLoader(train_data,batch_size=b,sampler=val)\n",
        "test_loader = torch.utils.data.DataLoader(test_data,batch_size=b)\n",
        "\n"
      ],
      "execution_count": 0,
      "outputs": []
    },
    {
      "metadata": {
        "id": "sPxmEeqcvCAz",
        "colab_type": "code",
        "colab": {
          "base_uri": "https://localhost:8080/",
          "height": 129
        },
        "outputId": "346e32cd-2a8e-408c-c860-b902d664b2dc"
      },
      "cell_type": "code",
      "source": [
        "class Model(nn.Module):\n",
        "  def __init__(self):\n",
        "    super(Model,self).__init__()\n",
        "    h1 = 512\n",
        "    h2 = 512\n",
        "    self.l1 = nn.Linear(28*28,h1)\n",
        "    self.l2 = nn.Linear(h1,h2)\n",
        "    self.l3 = nn.Linear(h2,10)\n",
        "    self.drop = nn.Dropout(.2)\n",
        "    \n",
        "  def forward(self,x):\n",
        "    \n",
        "    x = x.view(-1,28*28)\n",
        "    x = F.Relu(self.l1(x))\n",
        "    x = self.drop(x)\n",
        "    x = F.Relu(self.l2(x))\n",
        "    x = self.drop(x)\n",
        "    x = self.l3(x)\n",
        "    return x\n",
        "    \n",
        "  \n",
        "m = Model()\n",
        "print(m)"
      ],
      "execution_count": 66,
      "outputs": [
        {
          "output_type": "stream",
          "text": [
            "Model(\n",
            "  (l1): Linear(in_features=784, out_features=512, bias=True)\n",
            "  (l2): Linear(in_features=512, out_features=512, bias=True)\n",
            "  (l3): Linear(in_features=512, out_features=10, bias=True)\n",
            "  (drop): Dropout(p=0.2)\n",
            ")\n"
          ],
          "name": "stdout"
        }
      ]
    },
    {
      "metadata": {
        "id": "cyLd9Ft0BAwo",
        "colab_type": "code",
        "colab": {}
      },
      "cell_type": "code",
      "source": [
        "critersion = nn.CrossEntropyLoss()\n",
        "optimizer = torch.optim.SGD(m.parameters(),lr=.01)"
      ],
      "execution_count": 0,
      "outputs": []
    },
    {
      "metadata": {
        "id": "mQbKHCsGCCkV",
        "colab_type": "code",
        "colab": {}
      },
      "cell_type": "code",
      "source": [
        ""
      ],
      "execution_count": 0,
      "outputs": []
    }
  ]
}